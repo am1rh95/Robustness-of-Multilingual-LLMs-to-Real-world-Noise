{
 "cells": [
  {
   "cell_type": "markdown",
   "id": "76646dc9-9126-4a69-ad3e-7e0e4330d95d",
   "metadata": {},
   "source": [
    "### Creating the Noisy XNLI test set"
   ]
  },
  {
   "cell_type": "code",
   "execution_count": null,
   "id": "f1718d7a-3e89-433f-92a1-7c471c001592",
   "metadata": {},
   "outputs": [],
   "source": [
    "import pandas as pd\n",
    "language = 'hi'\n",
    "from datasets import load_dataset\n",
    "ds_orig = load_dataset('xnli', language,split='test')\n",
    "df_test = pd.DataFrame(ds_orig)"
   ]
  },
  {
   "cell_type": "code",
   "execution_count": null,
   "id": "b925867c-9f52-49c5-84a5-6ae9a20b02c2",
   "metadata": {},
   "outputs": [],
   "source": [
    "import pickle\n",
    "\n",
    "with open('/Noise Dics/wiki_typos_hi_p320000_l3277.pkl', 'rb') as f:\n",
    "    ds_t = pickle.load(f)"
   ]
  },
  {
   "cell_type": "markdown",
   "id": "fed68584-30a8-4570-b0b4-a0fa6f3a8632",
   "metadata": {},
   "source": [
    "max number of changes in a row : max_aug <br>\n",
    "replcace p percent of the tokens in a row :  percent_to_replace <br>\n",
    "\n"
   ]
  },
  {
   "cell_type": "code",
   "execution_count": null,
   "id": "fbd93250-9e12-4914-982e-0ff4d431d500",
   "metadata": {},
   "outputs": [],
   "source": [
    "df = df_test.copy()\n",
    "# ds_t = wten.output\n",
    "# Function to replace a percentage of tokens in a sentence\n",
    "def replace_noisy(sentence_list, percent_to_replace=30 , max_aug=4):\n",
    "\n",
    "    sentence = sentence_list[0]+\" * \"+sentence_list[1]\n",
    "#     print(sentence)\n",
    "    tokens = nltk.word_tokenize(sentence)\n",
    "    num_tokens_to_replace = int((len(tokens)-1) * (percent_to_replace / 100))\n",
    "    index_list = random.sample(range(0, len(tokens) ),len(tokens)-1)\n",
    "    cc =0\n",
    "    for i in index_list:\n",
    "        if (cc == num_tokens_to_replace) or (cc== max_aug):\n",
    "            break\n",
    "        index_to_replace = i\n",
    "        original_token = tokens[index_to_replace]\n",
    "        random.shuffle(ds_t)\n",
    "        for original, replacement in ds_t:\n",
    "            if original_token.startswith(original):\n",
    "                tokens[index_to_replace] = original_token.replace(original, replacement.lower())\n",
    "                cc = cc +1\n",
    "                break\n",
    "    \n",
    "    res=' '.join(tokens)\n",
    "    return res.split('*')[0][:-1],res.split('*')[1][1:]\n",
    "\n",
    "# Applying the custom function to the 'sentence' column with a specified percentage (e.g., 30%)\n",
    "df['combined'] = df[['premise','hypothesis']].apply(lambda x: replace_noisy(x, percent_to_replace=20,max_aug = 4),axis=1)\n",
    "df[['premise', 'hypothesis']] = pd.DataFrame(df['combined'].tolist(), index=df.index)\n",
    "\n",
    "#Dropping the temporary 'combined' column\n",
    "df = df.drop(columns=['combined'])"
   ]
  },
  {
   "cell_type": "code",
   "execution_count": null,
   "id": "0a42f094-2be5-4c72-934a-5a2e01d013b8",
   "metadata": {},
   "outputs": [],
   "source": [
    "df"
   ]
  },
  {
   "cell_type": "code",
   "execution_count": null,
   "id": "f2c7a4c1-891b-4839-bb7a-32f816b32c3a",
   "metadata": {},
   "outputs": [],
   "source": [
    "from datasets import Dataset\n",
    "ds_noisy = Dataset.from_pandas(df , features = ds_orig.features,preserve_index=False)\n",
    "ds_noisy.save_to_disk(\"xnli_WikiTypos/\"+language+\"_noisy.hf\")"
   ]
  },
  {
   "cell_type": "code",
   "execution_count": null,
   "id": "c69203b9-d55c-492e-a64c-bb494df37759",
   "metadata": {},
   "outputs": [],
   "source": [
    "pd.set_option('display.max_colwidth', 150)\n",
    "df[['premise','augmented']].head(20)"
   ]
  }
 ],
 "metadata": {
  "kernelspec": {
   "display_name": "Python 3 (ipykernel)",
   "language": "python",
   "name": "python3"
  },
  "language_info": {
   "codemirror_mode": {
    "name": "ipython",
    "version": 3
   },
   "file_extension": ".py",
   "mimetype": "text/x-python",
   "name": "python",
   "nbconvert_exporter": "python",
   "pygments_lexer": "ipython3",
   "version": "3.11.5"
  }
 },
 "nbformat": 4,
 "nbformat_minor": 5
}
