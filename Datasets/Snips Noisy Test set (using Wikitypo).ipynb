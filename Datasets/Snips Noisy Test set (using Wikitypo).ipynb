{
 "cells": [
  {
   "cell_type": "code",
   "execution_count": 2,
   "id": "a08a9f8d-fb21-4d45-844e-7cc17a86662d",
   "metadata": {},
   "outputs": [],
   "source": [
    "import os\n",
    "os.environ['TF_CPP_MIN_LOG_LEVEL'] = '3' \n",
    "import pandas as pd\n",
    "# from transformers import Trainer, TrainingArguments, DataCollatorWithPadding\n",
    "from datasets import load_dataset,DatasetDict,load_from_disk,Dataset\n",
    "# from transformers import AutoTokenizer,AutoModelForSequenceClassification\n",
    "# import evaluate\n",
    "# import torch\n",
    "import nltk\n",
    "import random\n",
    "import numpy as np\n",
    "label2id = {\n",
    "    \"AddToPlaylist\": 0,\n",
    "    'BookRestaurant': 1,\n",
    "    'GetWeather': 2,\n",
    "    'PlayMusic': 3,\n",
    "    'RateBook': 4,\n",
    "    'SearchCreativeWork': 5,\n",
    "    'SearchScreeningEvent': 6,\n",
    "}"
   ]
  },
  {
   "cell_type": "code",
   "execution_count": 3,
   "id": "87c2ad43-31b6-4373-a4a4-ecd6183da99d",
   "metadata": {},
   "outputs": [
    {
     "name": "stdout",
     "output_type": "stream",
     "text": [
      "Minimum number of words: 2\n",
      "Maximum number of words: 19\n",
      "Average number of words: 7\n"
     ]
    }
   ],
   "source": [
    "language = 'tr'\n",
    "\n",
    "if language == 'en':\n",
    "    ds_orig = load_dataset('benayas/snips')\n",
    "else: ds_orig = load_from_disk(\"/snips_dataset/snips_\"+language+\".hf\")\n",
    "df_test = pd.DataFrame(ds_orig['test'])\n",
    "# df_test = df_test[700:]\n",
    "df_test['word_count'] = df_test['text'].apply(lambda x: len(str(x).split()))\n",
    "\n",
    "# Calculate min and max word count\n",
    "min_word_count = df_test['word_count'].min()\n",
    "max_word_count = df_test['word_count'].max()\n",
    "mean_word_count = df_test['word_count'].mean()\n",
    "print(f\"Minimum number of words: {min_word_count}\")\n",
    "print(f\"Maximum number of words: {max_word_count}\")\n",
    "print(f\"Average number of words: {int(mean_word_count)}\")\n",
    "df_test = df_test.drop(columns = ['word_count'])"
   ]
  },
  {
   "cell_type": "code",
   "execution_count": 8,
   "id": "d410e0b2-ce4a-48fb-a02f-7dac91417126",
   "metadata": {},
   "outputs": [
    {
     "data": {
      "text/plain": [
       "'/Noise Dics/wiki_typos_de_p320000_l15023.pkl'"
      ]
     },
     "execution_count": 8,
     "metadata": {},
     "output_type": "execute_result"
    }
   ],
   "source": [
    "dir+filename"
   ]
  },
  {
   "cell_type": "markdown",
   "id": "ddf523cd-e770-4a4e-bb7c-459e31b3e707",
   "metadata": {},
   "source": [
    "### Create noisy test set using Wikitypo"
   ]
  },
  {
   "cell_type": "code",
   "execution_count": 4,
   "id": "2ccd82d9-c696-4c41-8d37-3b8b7197ef1b",
   "metadata": {},
   "outputs": [
    {
     "name": "stdout",
     "output_type": "stream",
     "text": [
      "wiki_typos_tr_p320000_l4064.pkl\n"
     ]
    }
   ],
   "source": [
    "import pickle\n",
    "import os\n",
    "dir = '/Noise Dics/'\n",
    "for file in os.listdir(dir):\n",
    "        filename = os.fsdecode(file)\n",
    "        if language in filename:\n",
    "            print(filename)\n",
    "            with open(dir+filename,'rb') as f:\n",
    "                ds_t = pickle.load(f)"
   ]
  },
  {
   "cell_type": "code",
   "execution_count": 5,
   "id": "5c17dbf3-9f7a-4ba5-83fa-edee33a6960b",
   "metadata": {},
   "outputs": [
    {
     "data": {
      "text/plain": [
       "0                Estelle ilebahar çalma listemde olmalı .\n",
       "1       Jovino santas Neto'nun albümüü Confidence Boos...\n",
       "2       Ila'nın çalma listsine ekle A Mi Manera Recopi...\n",
       "3       Sam Sparro'yu Beach Vibes adlı çalma listeeme ...\n",
       "4       Lütfen bu şarkıyı Urban Hits çalma lısteme ekle .\n",
       "                              ...                        \n",
       "1395         Gençlik Ruhu'nu oynatan biri sinema var mı ?\n",
       "1396    Mahalledeki animasyon filmlerinin filmi saatle...\n",
       "1397     Great Escape Tiyatrosu'nda film programı dedir ?\n",
       "1398    Dipson Tiyatrosu'ndaki Cheers fr Miss Bishop'u...\n",
       "1399    Married to the Enemy 2'yi sinemada izlemek itt...\n",
       "Name: text, Length: 1400, dtype: object"
      ]
     },
     "execution_count": 5,
     "metadata": {},
     "output_type": "execute_result"
    }
   ],
   "source": [
    "df = df_test.copy()\n",
    "\n",
    "# Function to replace a percentage of tokens in a sentence\n",
    "def replace_noisy(sentence, percent_to_replace=30 , max_aug=10):\n",
    "\n",
    "    tokens = nltk.word_tokenize(sentence)\n",
    "    num_tokens_to_replace = int((len(tokens)-1) * (percent_to_replace / 100))\n",
    "    index_list = random.sample(range(0, len(tokens) ),len(tokens)-1)\n",
    "    cc =0\n",
    "    for i in index_list:\n",
    "        if (cc == num_tokens_to_replace) or (cc== max_aug):\n",
    "            break\n",
    "        index_to_replace = i\n",
    "        original_token = tokens[index_to_replace]\n",
    "        random.shuffle(ds_t)\n",
    "        for original, replacement in ds_t:\n",
    "            if original_token.startswith(original):\n",
    "                tokens[index_to_replace] = original_token.replace(original, replacement.lower())\n",
    "                cc = cc +1\n",
    "                break\n",
    "    \n",
    "    res=' '.join(tokens)\n",
    "    return res\n",
    "\n",
    "# Applying the custom function to the 'sentence' column with a specified percentage (e.g., 30%)\n",
    "df['text'] = df['text'].apply(lambda x: replace_noisy(x, percent_to_replace=20,max_aug = 4))\n",
    "df['text']\n"
   ]
  },
  {
   "cell_type": "code",
   "execution_count": 6,
   "id": "3813cefe-1bfe-404e-ab98-6d2fb034fab6",
   "metadata": {},
   "outputs": [
    {
     "data": {
      "application/vnd.jupyter.widget-view+json": {
       "model_id": "b05e51dca5334373b20d35ad16ea70fa",
       "version_major": 2,
       "version_minor": 0
      },
      "text/plain": [
       "Saving the dataset (0/1 shards):   0%|          | 0/1400 [00:00<?, ? examples/s]"
      ]
     },
     "metadata": {},
     "output_type": "display_data"
    }
   ],
   "source": [
    "ds_typo = Dataset.from_pandas(df , features = ds_orig['train'].features,preserve_index=False)\n",
    "ds_typo.save_to_disk(\"snips_WikiTypos/\"+language+\"_noisy.hf\")"
   ]
  },
  {
   "cell_type": "code",
   "execution_count": 95,
   "id": "b90ea35e-6ce1-410c-aedf-d17b1b64cc8c",
   "metadata": {},
   "outputs": [
    {
     "data": {
      "text/html": [
       "<div>\n",
       "<style scoped>\n",
       "    .dataframe tbody tr th:only-of-type {\n",
       "        vertical-align: middle;\n",
       "    }\n",
       "\n",
       "    .dataframe tbody tr th {\n",
       "        vertical-align: top;\n",
       "    }\n",
       "\n",
       "    .dataframe thead th {\n",
       "        text-align: right;\n",
       "    }\n",
       "</style>\n",
       "<table border=\"1\" class=\"dataframe\">\n",
       "  <thead>\n",
       "    <tr style=\"text-align: right;\">\n",
       "      <th></th>\n",
       "      <th>text</th>\n",
       "      <th>category</th>\n",
       "    </tr>\n",
       "  </thead>\n",
       "  <tbody>\n",
       "    <tr>\n",
       "      <th>0</th>\n",
       "      <td>I'd like to have this track onto my Classical ...</td>\n",
       "      <td>AddToPlaylist</td>\n",
       "    </tr>\n",
       "    <tr>\n",
       "      <th>1</th>\n",
       "      <td>Add the album to my Flow Español playlist.</td>\n",
       "      <td>AddToPlaylist</td>\n",
       "    </tr>\n",
       "    <tr>\n",
       "      <th>2</th>\n",
       "      <td>add biging now to my Young at Heart playlist</td>\n",
       "      <td>AddToPlaylist</td>\n",
       "    </tr>\n",
       "    <tr>\n",
       "      <th>3</th>\n",
       "      <td>add this song by Too Poetic to my Piano Ballad...</td>\n",
       "      <td>AddToPlaylist</td>\n",
       "    </tr>\n",
       "    <tr>\n",
       "      <th>4</th>\n",
       "      <td>Add this album to Old School Death Metal</td>\n",
       "      <td>AddToPlaylist</td>\n",
       "    </tr>\n",
       "    <tr>\n",
       "      <th>...</th>\n",
       "      <td>...</td>\n",
       "      <td>...</td>\n",
       "    </tr>\n",
       "    <tr>\n",
       "      <th>695</th>\n",
       "      <td>Is any cinema playing The Spirit of Youth</td>\n",
       "      <td>SearchScreeningEvent</td>\n",
       "    </tr>\n",
       "    <tr>\n",
       "      <th>696</th>\n",
       "      <td>What ore the movie times fur animated movies i...</td>\n",
       "      <td>SearchScreeningEvent</td>\n",
       "    </tr>\n",
       "    <tr>\n",
       "      <th>697</th>\n",
       "      <td>What's the movie scadule at Great Escape Theatres</td>\n",
       "      <td>SearchScreeningEvent</td>\n",
       "    </tr>\n",
       "    <tr>\n",
       "      <th>698</th>\n",
       "      <td>Show th times for Cheers for Miss Bishop at Di...</td>\n",
       "      <td>SearchScreeningEvent</td>\n",
       "    </tr>\n",
       "    <tr>\n",
       "      <th>699</th>\n",
       "      <td>I want to see Married to the Enemy 2 at a cine...</td>\n",
       "      <td>SearchScreeningEvent</td>\n",
       "    </tr>\n",
       "  </tbody>\n",
       "</table>\n",
       "<p>700 rows × 2 columns</p>\n",
       "</div>"
      ],
      "text/plain": [
       "                                                  text              category\n",
       "0    I'd like to have this track onto my Classical ...         AddToPlaylist\n",
       "1           Add the album to my Flow Español playlist.         AddToPlaylist\n",
       "2         add biging now to my Young at Heart playlist         AddToPlaylist\n",
       "3    add this song by Too Poetic to my Piano Ballad...         AddToPlaylist\n",
       "4             Add this album to Old School Death Metal         AddToPlaylist\n",
       "..                                                 ...                   ...\n",
       "695          Is any cinema playing The Spirit of Youth  SearchScreeningEvent\n",
       "696  What ore the movie times fur animated movies i...  SearchScreeningEvent\n",
       "697  What's the movie scadule at Great Escape Theatres  SearchScreeningEvent\n",
       "698  Show th times for Cheers for Miss Bishop at Di...  SearchScreeningEvent\n",
       "699  I want to see Married to the Enemy 2 at a cine...  SearchScreeningEvent\n",
       "\n",
       "[700 rows x 2 columns]"
      ]
     },
     "execution_count": 95,
     "metadata": {},
     "output_type": "execute_result"
    }
   ],
   "source": [
    "path = '/Snips_noisy_dataset/'+language+'_typos'\n",
    "ds_typo = dataset_noisy(path,ds_orig)\n",
    "pd.DataFrame(ds_typo)"
   ]
  },
  {
   "cell_type": "code",
   "execution_count": 33,
   "id": "4a1a0445-64ae-4ed2-a818-bb53db44b210",
   "metadata": {},
   "outputs": [],
   "source": [
    "def dataset_noisy(path,ds_orig):\n",
    "    df_typo = pd.read_table(path+'/seq.in',names=['text'])\n",
    "    df_typo_label = pd.read_table(path+'/label',names=['category'])\n",
    "    df_typo = pd.concat([df_typo,df_typo_label], axis=1)\n",
    "    ds_typo = Dataset.from_pandas(df_typo , features = ds_orig['train'].features,preserve_index=False)\n",
    "    return ds_typo"
   ]
  }
 ],
 "metadata": {
  "kernelspec": {
   "display_name": "Python 3 (ipykernel)",
   "language": "python",
   "name": "python3"
  },
  "language_info": {
   "codemirror_mode": {
    "name": "ipython",
    "version": 3
   },
   "file_extension": ".py",
   "mimetype": "text/x-python",
   "name": "python",
   "nbconvert_exporter": "python",
   "pygments_lexer": "ipython3",
   "version": "3.11.5"
  }
 },
 "nbformat": 4,
 "nbformat_minor": 5
}
