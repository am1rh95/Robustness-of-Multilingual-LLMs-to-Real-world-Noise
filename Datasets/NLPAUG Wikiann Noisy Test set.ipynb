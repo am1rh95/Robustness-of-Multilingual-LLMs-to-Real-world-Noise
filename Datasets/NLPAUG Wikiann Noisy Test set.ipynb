{
 "cells": [
  {
   "cell_type": "code",
   "execution_count": 1,
   "id": "6245052f",
   "metadata": {},
   "outputs": [
    {
     "name": "stderr",
     "output_type": "stream",
     "text": [
      "2024-05-15 16:36:17.750239: I tensorflow/core/util/port.cc:113] oneDNN custom operations are on. You may see slightly different numerical results due to floating-point round-off errors from different computation orders. To turn them off, set the environment variable `TF_ENABLE_ONEDNN_OPTS=0`.\n",
      "2024-05-15 16:36:17.786209: E external/local_xla/xla/stream_executor/cuda/cuda_dnn.cc:9261] Unable to register cuDNN factory: Attempting to register factory for plugin cuDNN when one has already been registered\n",
      "2024-05-15 16:36:17.786244: E external/local_xla/xla/stream_executor/cuda/cuda_fft.cc:607] Unable to register cuFFT factory: Attempting to register factory for plugin cuFFT when one has already been registered\n",
      "2024-05-15 16:36:17.787372: E external/local_xla/xla/stream_executor/cuda/cuda_blas.cc:1515] Unable to register cuBLAS factory: Attempting to register factory for plugin cuBLAS when one has already been registered\n",
      "2024-05-15 16:36:17.793907: I tensorflow/core/platform/cpu_feature_guard.cc:182] This TensorFlow binary is optimized to use available CPU instructions in performance-critical operations.\n",
      "To enable the following instructions: AVX2 AVX512F AVX512_VNNI FMA, in other operations, rebuild TensorFlow with the appropriate compiler flags.\n",
      "2024-05-15 16:36:19.493398: W tensorflow/compiler/tf2tensorrt/utils/py_utils.cc:38] TF-TRT Warning: Could not find TensorRT\n"
     ]
    }
   ],
   "source": [
    "import nlpaug.augmenter.char as nac\n",
    "import nlpaug.augmenter.word as naw\n",
    "import nlpaug.augmenter.sentence as nas\n",
    "import nlpaug.flow as nafc\n",
    "import random\n",
    "from nlpaug.util import Action\n"
   ]
  },
  {
   "cell_type": "markdown",
   "id": "85f3cded",
   "metadata": {},
   "source": [
    "### Load the original dataset"
   ]
  },
  {
   "cell_type": "code",
   "execution_count": 15,
   "id": "fe82a320",
   "metadata": {},
   "outputs": [],
   "source": [
    "import pandas as pd\n",
    "language = 'fr'\n",
    "from datasets import load_dataset\n",
    "# Load the WikiANN dataset\n",
    "ds_orig = load_dataset(\"wikiann\", language)\n",
    "df_test = pd.DataFrame(ds_orig['train'])"
   ]
  },
  {
   "cell_type": "code",
   "execution_count": 27,
   "id": "5c9895c0",
   "metadata": {},
   "outputs": [
    {
     "data": {
      "text/html": [
       "<div>\n",
       "<style scoped>\n",
       "    .dataframe tbody tr th:only-of-type {\n",
       "        vertical-align: middle;\n",
       "    }\n",
       "\n",
       "    .dataframe tbody tr th {\n",
       "        vertical-align: top;\n",
       "    }\n",
       "\n",
       "    .dataframe thead th {\n",
       "        text-align: right;\n",
       "    }\n",
       "</style>\n",
       "<table border=\"1\" class=\"dataframe\">\n",
       "  <thead>\n",
       "    <tr style=\"text-align: right;\">\n",
       "      <th></th>\n",
       "      <th>tokens</th>\n",
       "      <th>ner_tags</th>\n",
       "      <th>langs</th>\n",
       "      <th>spans</th>\n",
       "    </tr>\n",
       "  </thead>\n",
       "  <tbody>\n",
       "    <tr>\n",
       "      <th>0</th>\n",
       "      <td>[Shortly, afterward, ,, an, encouraging, respo...</td>\n",
       "      <td>[0, 0, 0, 0, 0, 0, 0, 0, 0, 0, 0, 5, 0, 0, 0, ...</td>\n",
       "      <td>[en, en, en, en, en, en, en, en, en, en, en, e...</td>\n",
       "      <td>[LOC: India, LOC: Adyar]</td>\n",
       "    </tr>\n",
       "    <tr>\n",
       "      <th>1</th>\n",
       "      <td>[:, Kanye, West, featurjng, Jamie, Foxx, —, ``...</td>\n",
       "      <td>[0, 1, 2, 0, 1, 2, 0, 0, 3, 4, 0, 0, 0, 0]</td>\n",
       "      <td>[en, en, en, en, en, en, en, en, en, en, en, e...</td>\n",
       "      <td>[PER: Kanye West, PER: Jamie Foxx, ORG: Gold D...</td>\n",
       "    </tr>\n",
       "    <tr>\n",
       "      <th>2</th>\n",
       "      <td>[Blacktown, raiiway, station]</td>\n",
       "      <td>[3, 4, 4]</td>\n",
       "      <td>[en, en, en]</td>\n",
       "      <td>[ORG: Blacktown railway station]</td>\n",
       "    </tr>\n",
       "    <tr>\n",
       "      <th>3</th>\n",
       "      <td>['', Mycalesis, perseus, lalassis, '', (, Hwwi...</td>\n",
       "      <td>[0, 5, 6, 6, 0, 0, 0, 0, 0, 0]</td>\n",
       "      <td>[en, en, en, en, en, en, en, en, en, en]</td>\n",
       "      <td>[LOC: Mycalesis perseus lalassis]</td>\n",
       "    </tr>\n",
       "    <tr>\n",
       "      <th>4</th>\n",
       "      <td>[Jomny, Lee, Miller, -, Eli, Stone, '']</td>\n",
       "      <td>[1, 2, 2, 0, 3, 4, 0]</td>\n",
       "      <td>[en, en, en, en, en, en, en]</td>\n",
       "      <td>[PER: Jonny Lee Miller, ORG: Eli Stone]</td>\n",
       "    </tr>\n",
       "    <tr>\n",
       "      <th>...</th>\n",
       "      <td>...</td>\n",
       "      <td>...</td>\n",
       "      <td>...</td>\n",
       "      <td>...</td>\n",
       "    </tr>\n",
       "    <tr>\n",
       "      <th>9995</th>\n",
       "      <td>[Tonj, Stewart, ', '', (, PC4, ), ', '']</td>\n",
       "      <td>[1, 2, 0, 0, 0, 0, 0, 0, 0]</td>\n",
       "      <td>[en, en, en, en, en, en, en, en, en]</td>\n",
       "      <td>[PER: Tony Stewart]</td>\n",
       "    </tr>\n",
       "    <tr>\n",
       "      <th>9996</th>\n",
       "      <td>[Maryland, Rojte, 472]</td>\n",
       "      <td>[3, 4, 4]</td>\n",
       "      <td>[en, en, en]</td>\n",
       "      <td>[ORG: Maryland Route 472]</td>\n",
       "    </tr>\n",
       "    <tr>\n",
       "      <th>9997</th>\n",
       "      <td>[Rentin, ,, Washington]</td>\n",
       "      <td>[5, 6, 6]</td>\n",
       "      <td>[en, en, en]</td>\n",
       "      <td>[LOC: Renton , Washington]</td>\n",
       "    </tr>\n",
       "    <tr>\n",
       "      <th>9998</th>\n",
       "      <td>[He, served, as, a, member, of, the, South, Ea...</td>\n",
       "      <td>[0, 0, 0, 0, 0, 0, 0, 3, 4, 4, 0]</td>\n",
       "      <td>[en, en, en, en, en, en, en, en, en, en, en]</td>\n",
       "      <td>[ORG: South Eastern Circuit]</td>\n",
       "    </tr>\n",
       "    <tr>\n",
       "      <th>9999</th>\n",
       "      <td>[|, align=left|, Feee, Australia, Party]</td>\n",
       "      <td>[0, 0, 3, 4, 4]</td>\n",
       "      <td>[en, en, en, en, en]</td>\n",
       "      <td>[ORG: Free Australia Party]</td>\n",
       "    </tr>\n",
       "  </tbody>\n",
       "</table>\n",
       "<p>10000 rows × 4 columns</p>\n",
       "</div>"
      ],
      "text/plain": [
       "                                                 tokens  \\\n",
       "0     [Shortly, afterward, ,, an, encouraging, respo...   \n",
       "1     [:, Kanye, West, featurjng, Jamie, Foxx, —, ``...   \n",
       "2                         [Blacktown, raiiway, station]   \n",
       "3     ['', Mycalesis, perseus, lalassis, '', (, Hwwi...   \n",
       "4               [Jomny, Lee, Miller, -, Eli, Stone, '']   \n",
       "...                                                 ...   \n",
       "9995           [Tonj, Stewart, ', '', (, PC4, ), ', '']   \n",
       "9996                             [Maryland, Rojte, 472]   \n",
       "9997                            [Rentin, ,, Washington]   \n",
       "9998  [He, served, as, a, member, of, the, South, Ea...   \n",
       "9999           [|, align=left|, Feee, Australia, Party]   \n",
       "\n",
       "                                               ner_tags  \\\n",
       "0     [0, 0, 0, 0, 0, 0, 0, 0, 0, 0, 0, 5, 0, 0, 0, ...   \n",
       "1            [0, 1, 2, 0, 1, 2, 0, 0, 3, 4, 0, 0, 0, 0]   \n",
       "2                                             [3, 4, 4]   \n",
       "3                        [0, 5, 6, 6, 0, 0, 0, 0, 0, 0]   \n",
       "4                                 [1, 2, 2, 0, 3, 4, 0]   \n",
       "...                                                 ...   \n",
       "9995                        [1, 2, 0, 0, 0, 0, 0, 0, 0]   \n",
       "9996                                          [3, 4, 4]   \n",
       "9997                                          [5, 6, 6]   \n",
       "9998                  [0, 0, 0, 0, 0, 0, 0, 3, 4, 4, 0]   \n",
       "9999                                    [0, 0, 3, 4, 4]   \n",
       "\n",
       "                                                  langs  \\\n",
       "0     [en, en, en, en, en, en, en, en, en, en, en, e...   \n",
       "1     [en, en, en, en, en, en, en, en, en, en, en, e...   \n",
       "2                                          [en, en, en]   \n",
       "3              [en, en, en, en, en, en, en, en, en, en]   \n",
       "4                          [en, en, en, en, en, en, en]   \n",
       "...                                                 ...   \n",
       "9995               [en, en, en, en, en, en, en, en, en]   \n",
       "9996                                       [en, en, en]   \n",
       "9997                                       [en, en, en]   \n",
       "9998       [en, en, en, en, en, en, en, en, en, en, en]   \n",
       "9999                               [en, en, en, en, en]   \n",
       "\n",
       "                                                  spans  \n",
       "0                              [LOC: India, LOC: Adyar]  \n",
       "1     [PER: Kanye West, PER: Jamie Foxx, ORG: Gold D...  \n",
       "2                      [ORG: Blacktown railway station]  \n",
       "3                     [LOC: Mycalesis perseus lalassis]  \n",
       "4               [PER: Jonny Lee Miller, ORG: Eli Stone]  \n",
       "...                                                 ...  \n",
       "9995                                [PER: Tony Stewart]  \n",
       "9996                          [ORG: Maryland Route 472]  \n",
       "9997                         [LOC: Renton , Washington]  \n",
       "9998                       [ORG: South Eastern Circuit]  \n",
       "9999                        [ORG: Free Australia Party]  \n",
       "\n",
       "[10000 rows x 4 columns]"
      ]
     },
     "execution_count": 27,
     "metadata": {},
     "output_type": "execute_result"
    }
   ],
   "source": [
    "df_test"
   ]
  },
  {
   "cell_type": "code",
   "execution_count": 45,
   "id": "63c588e3",
   "metadata": {},
   "outputs": [
    {
     "name": "stdout",
     "output_type": "stream",
     "text": [
      "None\n"
     ]
    }
   ],
   "source": [
    "import os\n",
    "print(os.environ.get('CUDA_PATH'))"
   ]
  },
  {
   "cell_type": "markdown",
   "id": "eeeb916a",
   "metadata": {},
   "source": [
    "### Keyboard Augmentation [ https://nlpaug.readthedocs.io/en/latest/augmenter/char/keyboard.html ]\n",
    "percent_to_replace=20\n",
    "max_aug = 4\n",
    "min_aug = 1"
   ]
  },
  {
   "cell_type": "code",
   "execution_count": 16,
   "id": "2e6d2cf1",
   "metadata": {},
   "outputs": [],
   "source": [
    "import pandas as pd\n",
    "aug = nac.KeyboardAug(aug_char_max=1 ,aug_word_max=4,aug_word_p=0.2, include_special_char=False,include_upper_case =False,include_numeric=False, lang=language)\n"
   ]
  },
  {
   "cell_type": "code",
   "execution_count": 17,
   "id": "5262bea2",
   "metadata": {},
   "outputs": [],
   "source": [
    "import copy\n",
    "df2 = df_test.copy(deep=True)\n",
    "\n",
    "# Function to replace a percentage of tokens in a sentence\n",
    "def replace_noisy(tokens, percent_to_replace=30 , max_aug=10, min_aug=1):\n",
    "    \n",
    "    word_indices = [index for index, token in enumerate(tokens) if token.isalpha()]\n",
    "#     print(len(word_indices))\n",
    "    if len(word_indices) ==0:\n",
    "        return tokens\n",
    "    percent_replace = int(len(word_indices) * (percent_to_replace / 100))\n",
    "#     index_list = random.sample(range(0, len(tokens)),len(tokens)-1)\n",
    "    if percent_replace >= max_aug:\n",
    "        num_tokens_to_replace= max_aug\n",
    "    elif percent_replace < min_aug:\n",
    "        num_tokens_to_replace = min_aug\n",
    "    else: num_tokens_to_replace = percent_replace\n",
    "    tokens_copy = copy.deepcopy(tokens)\n",
    "    for i in range(num_tokens_to_replace):\n",
    "        rep_i=random.sample(word_indices,1)[0]\n",
    "        tokens_copy[rep_i] = aug.augment(tokens_copy[rep_i])[0]\n",
    "    \n",
    "    return tokens_copy\n",
    "\n",
    "# Applying the custom function to the 'sentence' column with a specified percentage (e.g., 30%)\n",
    "df2['tokens'] = df2['tokens'].apply(lambda x: replace_noisy(x, percent_to_replace=20,max_aug = 4,min_aug = 1))\n"
   ]
  },
  {
   "cell_type": "code",
   "execution_count": 18,
   "id": "015d3f06",
   "metadata": {},
   "outputs": [
    {
     "name": "stdout",
     "output_type": "stream",
     "text": [
      "Saxofrage faux Orpin\n"
     ]
    }
   ],
   "source": [
    "\n",
    "print(' '.join(df2.tokens[0]))\n",
    "# print(' '.join(df_test.tokens[0]) )   "
   ]
  },
  {
   "cell_type": "code",
   "execution_count": 44,
   "id": "d12006df",
   "metadata": {},
   "outputs": [
    {
     "name": "stdout",
     "output_type": "stream",
     "text": [
      "Shortly afterward , an encouraging response influenced him to go to India ; he arrived at Adyar in 1884 .\n"
     ]
    }
   ],
   "source": [
    "print(' '.join(df_test.tokens[0]) )   "
   ]
  },
  {
   "cell_type": "markdown",
   "id": "7a411eb5",
   "metadata": {},
   "source": [
    "### Save the augmented dataset"
   ]
  },
  {
   "cell_type": "code",
   "execution_count": 19,
   "id": "ef4d8b22",
   "metadata": {},
   "outputs": [
    {
     "data": {
      "application/vnd.jupyter.widget-view+json": {
       "model_id": "50a4f90348ff4cb2b5ce6bd2566dfce1",
       "version_major": 2,
       "version_minor": 0
      },
      "text/plain": [
       "Saving the dataset (0/1 shards):   0%|          | 0/20000 [00:00<?, ? examples/s]"
      ]
     },
     "metadata": {},
     "output_type": "display_data"
    }
   ],
   "source": [
    "from datasets import Dataset\n",
    "ds_noisy = Dataset.from_pandas(df2 , features = ds_orig['train'].features,preserve_index=False)\n",
    "ds_noisy.save_to_disk(\"/wikiann_nlpaug/train/\"+language+\"_noisy.hf\")"
   ]
  }
 ],
 "metadata": {
  "kernelspec": {
   "display_name": "Python 3 (ipykernel)",
   "language": "python",
   "name": "python3"
  },
  "language_info": {
   "codemirror_mode": {
    "name": "ipython",
    "version": 3
   },
   "file_extension": ".py",
   "mimetype": "text/x-python",
   "name": "python",
   "nbconvert_exporter": "python",
   "pygments_lexer": "ipython3",
   "version": "3.11.5"
  }
 },
 "nbformat": 4,
 "nbformat_minor": 5
}
